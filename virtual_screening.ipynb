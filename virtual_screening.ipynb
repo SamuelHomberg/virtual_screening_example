{
 "cells": [
  {
   "cell_type": "markdown",
   "metadata": {},
   "source": [
    "# Virtual Screening\n",
    "\n",
    "---\n",
    "\n",
    "*This notebook is a cut and slightly modified version of [TeachOpenCADD](https://github.com/volkamerlab/teachopencadd/tree/master) **T004**.*\n",
    "\n",
    "---\n",
    "\n",
    "The challenge in early stages of drug discovery is to narrow down a set of small molecules (molecules) from the large existing chemical space that are potentially binding to the target under investigation. Note that this chemical space is vast: Small molecules can be made of 10<sup>20</sup> combinations of chemical moieties ([<i>ACS Chem. Neurosci.</i> (2012), <b>19</b>, 649-57](https://www.ncbi.nlm.nih.gov/pubmed/23019491)). \n",
    "\n",
    "Since experimental high-throughput screening (HTS) for the activity of all those small molecules against the target of interest is cost and time intensive, computer-aided methods are invoked to propose a focused list of small molecules to be tested. This process is called virtual (high-throughput) screening: a large library of small molecules is filtered by rules and/or patterns, in order to identify those small molecules that are most likely to bind a target under investigation."
   ]
  },
  {
   "cell_type": "markdown",
   "metadata": {},
   "source": [
    "## Virtual screening using similarity search\n",
    "\n",
    "Comparing a set of novel molecules against a (or several) known active molecule(s) to find the most similar ones can be used as a simple way of virtual screening. \n",
    "Given the similar property principle, we can assume that the most similar molecules, e.g. to a known inhibitor, also have similar effects. Requirements for a similarity search are the following (as discussed in detail above):\n",
    "\n",
    "* A representation that encodes chemical/molecular features\n",
    "* A potential weighting of features (optional)\n",
    "* A similarity measurement\n",
    "\n",
    "A similarity search can be performed by calculating the similarity between one molecule and all molecules in a specific dataset. Ranking the molecules of the dataset by their similarity coefficient yields the most similar molecules at the top.\n",
    "\n",
    "To get started, we'll install rdkit and import the needed python packages."
   ]
  },
  {
   "cell_type": "code",
   "execution_count": null,
   "metadata": {},
   "outputs": [],
   "source": [
    "!pip install rdkit\n",
    "!pip install pandas\n",
    "!pip install matplotlib\n",
    "from rdkit.Chem import AllChem as Chem\n",
    "from rdkit.Chem import Draw\n",
    "from rdkit import DataStructs\n",
    "import pandas as pd\n",
    "from matplotlib import pyplot as plt"
   ]
  },
  {
   "cell_type": "markdown",
   "metadata": {},
   "source": [
    "### Load a data set\n",
    "\n",
    "We import molecules from a *csv* file containing EGFR-tested molecules from the ChEMBL database (collected in TeachOpenCADD **T001**) which are filtered by Lipinski's rule of five (in **T002**). Given one query molecule (here Gefitinib), we screen that data set for similar molecules."
   ]
  },
  {
   "cell_type": "code",
   "execution_count": null,
   "metadata": {},
   "outputs": [],
   "source": [
    "# ONLY RUN THIS CELL LOCALLY\n",
    "molecule_dataset = pd.read_csv(\"data/EGFR_compounds_lipinski.csv\",\n",
    "    usecols=[\"molecule_chembl_id\", \"smiles\", \"pIC50\"],)\n",
    "print(f\"Number of molecules in dataset: {len(molecule_dataset)}\")\n",
    "molecule_dataset.head(5)"
   ]
  },
  {
   "cell_type": "code",
   "execution_count": null,
   "metadata": {},
   "outputs": [],
   "source": [
    "# ONLY RUN THIS CELL IN GOOGLE COLAB\n",
    "\n",
    "# uncomment the next line if you want to run this cell twice, otherwise you get an error\n",
    "!git clone https://github.com/SamuelHomberg/virtual_screening_example.git\n",
    "molecule_dataset = pd.read_csv(\"virtual_screening_example/data/EGFR_compounds_lipinski.csv\",\n",
    "    usecols=[\"molecule_chembl_id\", \"smiles\", \"pIC50\"],)\n",
    "print(f\"Number of molecules in dataset: {len(molecule_dataset)}\")\n",
    "molecule_dataset.head(5)"
   ]
  },
  {
   "cell_type": "markdown",
   "metadata": {},
   "source": [
    "__Query__: For the query molecule Gefitinib, generate the rdkit `ROMol` object from the query molecule's SMILES."
   ]
  },
  {
   "cell_type": "code",
   "execution_count": null,
   "metadata": {},
   "outputs": [],
   "source": [
    "query = Chem.MolFromSmiles(\"COC1=C(OCCCN2CCOCC2)C=C2C(NC3=CC(Cl)=C(F)C=C3)=NC=NC2=C1\")\n",
    "query"
   ]
  },
  {
   "cell_type": "markdown",
   "metadata": {},
   "source": [
    "Now we have to generate the Morgan fingerprints for all molecules in our dataset."
   ]
  },
  {
   "cell_type": "code",
   "execution_count": null,
   "metadata": {},
   "outputs": [],
   "source": [
    "fpgen = Chem.GetMorganGenerator(radius=2)\n",
    "\n",
    "mols = [Chem.MolFromSmiles(s) for s in molecule_dataset[\"smiles\"]]\n",
    "fps = [fpgen.GetFingerprint(mol) for mol in mols]"
   ]
  },
  {
   "cell_type": "markdown",
   "metadata": {},
   "source": [
    "And also for our query molecule (Gefitinib)."
   ]
  },
  {
   "cell_type": "code",
   "execution_count": null,
   "metadata": {},
   "outputs": [],
   "source": [
    "query_fp = fpgen.GetFingerprint(query)\n",
    "list(query_fp)[:25]"
   ]
  },
  {
   "cell_type": "markdown",
   "metadata": {},
   "source": [
    "Next, we calculate the Tanimoto similarity between the query molecule (Gefitinib) and all molecules our dataset (using the Morgan fingerprints)."
   ]
  },
  {
   "cell_type": "code",
   "execution_count": null,
   "metadata": {},
   "outputs": [],
   "source": [
    "molecule_dataset[\"tanimoto\"] = DataStructs.BulkTanimotoSimilarity(query_fp, fps)"
   ]
  },
  {
   "cell_type": "markdown",
   "metadata": {},
   "source": [
    "### Distribution of similarity values\n",
    "\n",
    "We can have a look at the distributions by plotting a histogram of the Tanimoto similarity of the fingerprints."
   ]
  },
  {
   "cell_type": "code",
   "execution_count": null,
   "metadata": {},
   "outputs": [],
   "source": [
    "fig, axes = plt.subplots(figsize=(10, 6))\n",
    "molecule_dataset.hist([\"tanimoto\"], ax=axes)\n",
    "axes.set_xlabel(\"similarity value\")\n",
    "axes.set_ylabel(\"# molecules\")\n",
    "fig;"
   ]
  },
  {
   "cell_type": "markdown",
   "metadata": {},
   "source": [
    "### Visualize most similar molecules\n",
    "\n",
    "We visually inspect the structure of Gefitinib in comparison to the most similar molecules in our ranking, including the information about their bioactivity (pIC50 derived from the ChEMBL database in **T001**).\n",
    "\n",
    "Here, we sort the `DataFrame` by the Tanimoto similarity based on Morgan fingerprints."
   ]
  },
  {
   "cell_type": "code",
   "execution_count": null,
   "metadata": {},
   "outputs": [],
   "source": [
    "molecule_dataset.sort_values([\"tanimoto\"], ascending=False).head(3)"
   ]
  },
  {
   "cell_type": "markdown",
   "metadata": {},
   "source": [
    "Show the query and its most similar molecules alongside the molecules' bioactivities."
   ]
  },
  {
   "cell_type": "code",
   "execution_count": null,
   "metadata": {},
   "outputs": [],
   "source": [
    "top_n_molecules = 10\n",
    "top_molecules = molecule_dataset.sort_values([\"tanimoto\"], ascending=False).reset_index()\n",
    "top_molecules = top_molecules[:top_n_molecules]\n",
    "legends = [\n",
    "    f\"#{index+1} {molecule['molecule_chembl_id']}, pIC50={molecule['pIC50']:.2f}\"\n",
    "    for index, molecule in top_molecules.iterrows()\n",
    "]\n",
    "Draw.MolsToGridImage(\n",
    "    mols=[query] + [Chem.MolFromSmiles(s) for s in top_molecules[\"smiles\"]],\n",
    "    legends=([\"Gefitinib\"] + legends),\n",
    "    molsPerRow=3,\n",
    "    subImgSize=(450, 150),\n",
    ")"
   ]
  },
  {
   "cell_type": "markdown",
   "metadata": {},
   "source": [
    "The top ranked molecules for Gefitinib are Gefitinib entries (rank 1 and 2) in our dataset, followed by alterations of Gefitinib, e.g. different benzole substitution patterns. \n",
    "Note: ChEMBL contains the complete structure-activity relationship analysis for Gefitinib (being a well-studied molecule), therefore it is not surprising to have that many Gefitinib-like molecules in our dataset.\n",
    "\n",
    "We now check how well the similarity search is able to distinguish between active and inactive molecules based on our dataset. Therefore, we use the bioactivity values (these were collected from ChEMBL for each molecule (bioactivity against EGFR) in **T001**)."
   ]
  },
  {
   "cell_type": "markdown",
   "metadata": {},
   "source": [
    "### Get enrichment\n",
    "\n",
    "In order to decide whether we treat a molecule as active or inactive, we apply the commonly used pIC50 cutoff value of 6.3. Although there are several suggestions ranging from an pIC50 cutoff values of 5 to 7 in the literature or even to define an exclusion range, we think this cutoff is reasonable. \n",
    "(The same cutoff will be used for machine learning in **T010**.)"
   ]
  },
  {
   "cell_type": "code",
   "execution_count": null,
   "metadata": {},
   "outputs": [],
   "source": [
    "def get_enrichment_data(molecules, similarity_measure, pic50_cutoff):\n",
    "    \"\"\"\n",
    "    Calculates x and y values for enrichment plot:\n",
    "        x - % ranked dataset\n",
    "        y - % true actives identified\n",
    "\n",
    "    Parameters\n",
    "    ----------\n",
    "    molecules : pandas.DataFrame\n",
    "        Molecules with similarity values to a query molecule.\n",
    "    similarity_measure : str\n",
    "        Column name which will be used to sort the DataFrame．\n",
    "    pic50_cutoff : float\n",
    "        pIC50 cutoff value used to discriminate active and inactive molecules.\n",
    "\n",
    "    Returns\n",
    "    -------\n",
    "    pandas.DataFrame\n",
    "        Enrichment data: Percentage of ranked dataset by similarity vs. percentage of identified true actives.\n",
    "    \"\"\"\n",
    "\n",
    "    # Get number of molecules in data set\n",
    "    molecules_all = len(molecules)\n",
    "\n",
    "    # Get number of active molecules in data set\n",
    "    actives_all = sum(molecules[\"pIC50\"] >= pic50_cutoff)\n",
    "\n",
    "    # Initialize a list that will hold the counter for actives and molecules while iterating through our dataset\n",
    "    actives_counter_list = []\n",
    "\n",
    "    # Initialize counter for actives\n",
    "    actives_counter = 0\n",
    "\n",
    "    # Note: Data must be ranked for enrichment plots:\n",
    "    # Sort molecules by selected similarity measure\n",
    "    molecules.sort_values([similarity_measure], ascending=False, inplace=True)\n",
    "\n",
    "    # Iterate over the ranked dataset and check each molecule if active (by checking bioactivity)\n",
    "    for value in molecules[\"pIC50\"]:\n",
    "        if value >= pic50_cutoff:\n",
    "            actives_counter += 1\n",
    "        actives_counter_list.append(actives_counter)\n",
    "\n",
    "    # Transform number of molecules into % ranked dataset\n",
    "    molecules_percentage_list = [i / molecules_all for i in range(1, molecules_all + 1)]\n",
    "\n",
    "    # Transform number of actives into % true actives identified\n",
    "    actives_percentage_list = [i / actives_all for i in actives_counter_list]\n",
    "\n",
    "    # Generate DataFrame with x and y values as well as label\n",
    "    enrichment = pd.DataFrame(\n",
    "        {\n",
    "            \"% ranked dataset\": molecules_percentage_list,\n",
    "            \"% true actives identified\": actives_percentage_list,\n",
    "        }\n",
    "    )\n",
    "\n",
    "    return enrichment"
   ]
  },
  {
   "cell_type": "markdown",
   "metadata": {},
   "source": [
    "Set the pIC50 cutoff used to discriminate active and inactive molecules... "
   ]
  },
  {
   "cell_type": "code",
   "execution_count": null,
   "metadata": {},
   "outputs": [],
   "source": [
    "pic50_cutoff = 6.3"
   ]
  },
  {
   "cell_type": "markdown",
   "metadata": {},
   "source": [
    "...and get the enrichment for Morgan fingerprints (using the Tanimoto similarity)."
   ]
  },
  {
   "cell_type": "code",
   "execution_count": null,
   "metadata": {},
   "outputs": [],
   "source": [
    "similarity_measures = [\"tanimoto\"]\n",
    "enrichment_data = {\n",
    "    similarity_measure: get_enrichment_data(molecule_dataset, similarity_measure, pic50_cutoff)\n",
    "    for similarity_measure in similarity_measures\n",
    "}"
   ]
  },
  {
   "cell_type": "markdown",
   "metadata": {},
   "source": [
    "Show example enrichment data."
   ]
  },
  {
   "cell_type": "code",
   "execution_count": null,
   "metadata": {},
   "outputs": [],
   "source": [
    "enrichment_data[\"tanimoto\"].head()"
   ]
  },
  {
   "cell_type": "markdown",
   "metadata": {},
   "source": [
    "### Enrichment Plots\n",
    "\n",
    "Enrichment plots are used to validate virtual screening results, which display the ratio of active molecules detected in the top x% of the ranked list, i.e.: \n",
    "\n",
    "* the ratio of top-ranked molecules (x-axis) from the whole dataset vs. \n",
    "* the ratio of active molecules (y-axis) from the whole dataset."
   ]
  },
  {
   "cell_type": "code",
   "execution_count": null,
   "metadata": {},
   "outputs": [],
   "source": [
    "fig, ax = plt.subplots(figsize=(6, 6))\n",
    "\n",
    "fontsize = 20\n",
    "\n",
    "# Plot enrichment data\n",
    "for similarity_measure, enrichment in enrichment_data.items():\n",
    "    ax = enrichment.plot(\n",
    "        ax=ax,\n",
    "        x=\"% ranked dataset\",\n",
    "        y=\"% true actives identified\",\n",
    "        label=similarity_measure,\n",
    "        alpha=0.5,\n",
    "        linewidth=4,\n",
    "    )\n",
    "ax.set_ylabel(\"% True actives identified\", size=fontsize)\n",
    "ax.set_xlabel(\"% Ranked dataset\", size=fontsize)\n",
    "\n",
    "# Plot optimal curve: Ratio of actives in dataset\n",
    "ratio_actives = sum(molecule_dataset[\"pIC50\"] >= pic50_cutoff) / len(molecule_dataset)\n",
    "ax.plot(\n",
    "    [0, ratio_actives, 1],\n",
    "    [0, 1, 1],\n",
    "    label=\"Optimal curve\",\n",
    "    color=\"black\",\n",
    "    linestyle=\"--\",\n",
    ")\n",
    "\n",
    "# Plot random curve\n",
    "ax.plot([0, 1], [0, 1], label=\"Random curve\", color=\"grey\", linestyle=\"--\")\n",
    "\n",
    "plt.tick_params(labelsize=16)\n",
    "plt.legend(\n",
    "    labels=[\"Morgan\", \"Optimal\", \"Random\"],\n",
    "    loc=(0.5, 0.08),\n",
    "    fontsize=fontsize,\n",
    "    labelspacing=0.3,\n",
    ")\n",
    "\n",
    "plt.show()"
   ]
  },
  {
   "cell_type": "markdown",
   "metadata": {},
   "source": [
    "### Calculate enrichment factors\n",
    "\n",
    "The (experimental) __enrichment factor (EF)__ is used to access a methods success by a single number rather than a plot. The idea is to determine the percentage of active molecules in the top x% (e.g. 5%) of ranked molecules, as defined by the following helper function."
   ]
  },
  {
   "cell_type": "code",
   "execution_count": null,
   "metadata": {},
   "outputs": [],
   "source": [
    "def calculate_enrichment_factor(enrichment, ranked_dataset_percentage_cutoff):\n",
    "    \"\"\"\n",
    "    Get the experimental enrichment factor for a given percentage of the ranked dataset.\n",
    "\n",
    "    Parameters\n",
    "    ----------\n",
    "    enrichment : pd.DataFrame\n",
    "        Enrichment data: Percentage of ranked dataset by similarity vs. percentage of\n",
    "        identified true actives.\n",
    "    ranked_dataset_percentage_cutoff : float or int\n",
    "        Percentage of ranked dataset to be included in enrichment factor calculation.\n",
    "\n",
    "    Returns\n",
    "    -------\n",
    "    float\n",
    "        Experimental enrichment factor.\n",
    "    \"\"\"\n",
    "\n",
    "    # Keep only molecules that meet the cutoff\n",
    "    enrichment = enrichment[\n",
    "        enrichment[\"% ranked dataset\"] <= ranked_dataset_percentage_cutoff / 100\n",
    "    ]\n",
    "    # Get highest percentage of actives and the corresponding percentage of actives\n",
    "    highest_enrichment = enrichment.iloc[-1]\n",
    "    enrichment_factor = round(100 * float(highest_enrichment[\"% true actives identified\"]), 1)\n",
    "    return enrichment_factor"
   ]
  },
  {
   "cell_type": "markdown",
   "metadata": {},
   "source": [
    "This helper function calculates the random enrichment of active molecules in the top x% of ranked molecules (__random enrichment factor__)."
   ]
  },
  {
   "cell_type": "code",
   "execution_count": null,
   "metadata": {},
   "outputs": [],
   "source": [
    "def calculate_enrichment_factor_random(ranked_dataset_percentage_cutoff):\n",
    "    \"\"\"\n",
    "    Get the random enrichment factor for a given percentage of the ranked dataset.\n",
    "\n",
    "    Parameters\n",
    "    ----------\n",
    "    ranked_dataset_percentage_cutoff : float or int\n",
    "        Percentage of ranked dataset to be included in enrichment factor calculation.\n",
    "\n",
    "    Returns\n",
    "    -------\n",
    "    float\n",
    "        Random enrichment factor.\n",
    "    \"\"\"\n",
    "\n",
    "    enrichment_factor_random = round(float(ranked_dataset_percentage_cutoff), 1)\n",
    "    return enrichment_factor_random"
   ]
  },
  {
   "cell_type": "markdown",
   "metadata": {},
   "source": [
    "And this helper function calculates the optimal enrichment of active molecules in the top x% of ranked molecules (__optimal enrichment factor__). The random and optimal enrichment factors are needed to judge how good the experimental enrichment factor for a method is."
   ]
  },
  {
   "cell_type": "code",
   "execution_count": null,
   "metadata": {},
   "outputs": [],
   "source": [
    "def calculate_enrichment_factor_optimal(molecules, ranked_dataset_percentage_cutoff, pic50_cutoff):\n",
    "    \"\"\"\n",
    "    Get the optimal random enrichment factor for a given percentage of the ranked dataset.\n",
    "\n",
    "    Parameters\n",
    "    ----------\n",
    "    molecules : pandas.DataFrame\n",
    "        the DataFrame with all the molecules and pIC50.\n",
    "    ranked_dataset_percentage_cutoff : float or int\n",
    "        Percentage of ranked dataset to be included in enrichment factor calculation.\n",
    "    activity_cutoff: float\n",
    "        pIC50 cutoff value used to discriminate active and inactive molecules\n",
    "\n",
    "    Returns\n",
    "    -------\n",
    "    float\n",
    "        Optimal enrichment factor.\n",
    "    \"\"\"\n",
    "\n",
    "    ratio = sum(molecules[\"pIC50\"] >= pic50_cutoff) / len(molecules) * 100\n",
    "    if ranked_dataset_percentage_cutoff <= ratio:\n",
    "        enrichment_factor_optimal = round(100 / ratio * ranked_dataset_percentage_cutoff, 1)\n",
    "    else:\n",
    "        enrichment_factor_optimal = 100.0\n",
    "    return enrichment_factor_optimal"
   ]
  },
  {
   "cell_type": "markdown",
   "metadata": {},
   "source": [
    "We are ready to calculate the experimental enrichment factor (EF) for 5% of ranked dataset... "
   ]
  },
  {
   "cell_type": "code",
   "execution_count": null,
   "metadata": {},
   "outputs": [],
   "source": [
    "ranked_dataset_percentage_cutoff = 5\n",
    "for similarity_measure, enrichment in enrichment_data.items():\n",
    "    enrichment_factor = calculate_enrichment_factor(enrichment, ranked_dataset_percentage_cutoff)\n",
    "    print(\n",
    "        f\"Experimental EF for {ranked_dataset_percentage_cutoff}% of ranked dataset ({similarity_measure}): {enrichment_factor}%\"\n",
    "    )"
   ]
  },
  {
   "cell_type": "markdown",
   "metadata": {},
   "source": [
    "... and we can compare it to the random and optimal enrichment factor."
   ]
  },
  {
   "cell_type": "code",
   "execution_count": null,
   "metadata": {},
   "outputs": [],
   "source": [
    "enrichment_factor_random = calculate_enrichment_factor_random(ranked_dataset_percentage_cutoff)\n",
    "print(\n",
    "    f\"Random EF for {ranked_dataset_percentage_cutoff}% of ranked dataset: {enrichment_factor_random}%\"\n",
    ")\n",
    "enrichment_factor_optimal = calculate_enrichment_factor_optimal(\n",
    "    molecule_dataset, ranked_dataset_percentage_cutoff, pic50_cutoff\n",
    ")\n",
    "print(\n",
    "    f\"Optimal EF for {ranked_dataset_percentage_cutoff}% of ranked dataset: {enrichment_factor_optimal}%\"\n",
    ")\n",
    "# NBVAL_CHECK_OUTPUT"
   ]
  },
  {
   "cell_type": "markdown",
   "metadata": {},
   "source": [
    "## Discussion\n",
    "\n",
    "We have learned how to use fingerprints and similarity measures to compare a query molecule with a dataset of molecules and rank the molecule by similarity. This approach is an example for virtual screening of molecules.\n",
    "*Enrichment plots* (see TeachOpenCADD **T004**) and enrichment factors can be used to assess the performance. \n",
    "\n",
    "A drawback of a similarity search with molecular fingerprints is that it is based on molecular similarity and thus does not yield any novel structures. Another challenge when working with molecular similarity are so-called activity cliffs, i.e. a small change in a functional group of a molecule may initiate a jump in bioactivity. "
   ]
  }
 ],
 "metadata": {
  "kernelspec": {
   "display_name": "empty",
   "language": "python",
   "name": "python3"
  },
  "language_info": {
   "codemirror_mode": {
    "name": "ipython",
    "version": 3
   },
   "file_extension": ".py",
   "mimetype": "text/x-python",
   "name": "python",
   "nbconvert_exporter": "python",
   "pygments_lexer": "ipython3",
   "version": "3.12.2"
  }
 },
 "nbformat": 4,
 "nbformat_minor": 2
}
